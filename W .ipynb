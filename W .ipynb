{
 "cells": [
  {
   "cell_type": "code",
   "execution_count": 13,
   "metadata": {},
   "outputs": [],
   "source": [
    "from sage.all import *\n",
    "N = 200\n",
    "tau = SR.var('tau', N)\n",
    "g = SR.var('g')"
   ]
  },
  {
   "cell_type": "code",
   "execution_count": 17,
   "metadata": {},
   "outputs": [],
   "source": [
    "def W(K, N):\n",
    "    result = 0\n",
    "    if N == 1:\n",
    "        return 1/g^2*tau[0]^3/factorial(3) + tau[1]/16\n",
    "    else:\n",
    "        prev = W(K, N-1)\n",
    "        for k in range(K):\n",
    "            for m in range(K):\n",
    "                if k + m > 0:\n",
    "                    result += 2/3*(k+1/2)*(m+1/2)*tau[k]*tau[m]*diff(prev,tau[k+m-1])\n",
    "                result += g^2/12*(k+m+5/2)*tau[k+m+2]*diff(prev, tau[k], tau[m])\n",
    "        result += (1/g^2*tau[0]^3/factorial(3) + tau[1]/16)*prev\n",
    "    return result\n"
   ]
  },
  {
   "cell_type": "code",
   "execution_count": 47,
   "metadata": {},
   "outputs": [],
   "source": [
    "def cut(N):\n",
    "    \"\"\" \n",
    "    Строит Z{N} из статьи 1009.4887\n",
    "    cut(1) = 1/6*tau0^3/g^2 + 1/16*tau1\n",
    "    cut(2) = 1/72*tau0^6/g^4 + 25/96*tau0^3*tau1/g^2 + 25/512*tau1^2 + 5/32*tau0*tau2\n",
    "    etc.\n",
    "    \"\"\"\n",
    "    K = 1\n",
    "    diff = W(1,1)\n",
    "    while (diff != 0  ):\n",
    "        old = W(K,N)\n",
    "        K += 1\n",
    "        diff = W(K,N) - old\n",
    "    return old.expand()/factorial(N)"
   ]
  },
  {
   "cell_type": "code",
   "execution_count": 50,
   "metadata": {},
   "outputs": [
    {
     "data": {
      "text/html": [
       "<html><script type=\"math/tex; mode=display\">\\newcommand{\\Bold}[1]{\\mathbf{#1}}\\frac{\\tau_{0}^{6}}{72 \\, g^{4}} + \\frac{25 \\, \\tau_{0}^{3} \\tau_{1}}{96 \\, g^{2}} + \\frac{25}{512} \\, \\tau_{1}^{2} + \\frac{5}{32} \\, \\tau_{0} \\tau_{2}</script></html>"
      ],
      "text/latex": [
       "\\begin{math}\n",
       "\\newcommand{\\Bold}[1]{\\mathbf{#1}}\\frac{\\tau_{0}^{6}}{72 \\, g^{4}} + \\frac{25 \\, \\tau_{0}^{3} \\tau_{1}}{96 \\, g^{2}} + \\frac{25}{512} \\, \\tau_{1}^{2} + \\frac{5}{32} \\, \\tau_{0} \\tau_{2}\n",
       "\\end{math}"
      ],
      "text/plain": [
       "1/72*tau0^6/g^4 + 25/96*tau0^3*tau1/g^2 + 25/512*tau1^2 + 5/32*tau0*tau2"
      ]
     },
     "metadata": {},
     "output_type": "display_data"
    }
   ],
   "source": [
    "pretty_print(cut(2))"
   ]
  },
  {
   "cell_type": "code",
   "execution_count": 51,
   "metadata": {},
   "outputs": [],
   "source": [
    "def Z(N):\n",
    "    result = 1\n",
    "    for i in range(N):\n",
    "        result += 1/factorial(i) * cut(N)\n",
    "    return result"
   ]
  },
  {
   "cell_type": "code",
   "execution_count": 55,
   "metadata": {},
   "outputs": [
    {
     "data": {
      "text/html": [
       "<html><script type=\"math/tex; mode=display\">\\newcommand{\\Bold}[1]{\\mathbf{#1}}\\frac{5 \\, \\tau_{0}^{9}}{2592 \\, g^{6}} + \\frac{245 \\, \\tau_{0}^{6} \\tau_{1}}{2304 \\, g^{4}} + \\frac{6125 \\, \\tau_{0}^{3} \\tau_{1}^{2}}{6144 \\, g^{2}} + \\frac{6125}{49152} \\, \\tau_{1}^{3} + \\frac{175 \\, \\tau_{0}^{4} \\tau_{2}}{384 \\, g^{2}} + \\frac{1225}{1024} \\, \\tau_{0} \\tau_{1} \\tau_{2} + \\frac{175}{256} \\, \\tau_{0}^{2} \\tau_{3} + \\frac{525}{4096} \\, g^{2} \\tau_{4} + 1</script></html>"
      ],
      "text/latex": [
       "\\begin{math}\n",
       "\\newcommand{\\Bold}[1]{\\mathbf{#1}}\\frac{5 \\, \\tau_{0}^{9}}{2592 \\, g^{6}} + \\frac{245 \\, \\tau_{0}^{6} \\tau_{1}}{2304 \\, g^{4}} + \\frac{6125 \\, \\tau_{0}^{3} \\tau_{1}^{2}}{6144 \\, g^{2}} + \\frac{6125}{49152} \\, \\tau_{1}^{3} + \\frac{175 \\, \\tau_{0}^{4} \\tau_{2}}{384 \\, g^{2}} + \\frac{1225}{1024} \\, \\tau_{0} \\tau_{1} \\tau_{2} + \\frac{175}{256} \\, \\tau_{0}^{2} \\tau_{3} + \\frac{525}{4096} \\, g^{2} \\tau_{4} + 1\n",
       "\\end{math}"
      ],
      "text/plain": [
       "5/2592*tau0^9/g^6 + 245/2304*tau0^6*tau1/g^4 + 6125/6144*tau0^3*tau1^2/g^2 + 6125/49152*tau1^3 + 175/384*tau0^4*tau2/g^2 + 1225/1024*tau0*tau1*tau2 + 175/256*tau0^2*tau3 + 525/4096*g^2*tau4 + 1"
      ]
     },
     "metadata": {},
     "output_type": "display_data"
    }
   ],
   "source": [
    "pretty_print(Z(3))"
   ]
  },
  {
   "cell_type": "code",
   "execution_count": null,
   "metadata": {},
   "outputs": [],
   "source": []
  }
 ],
 "metadata": {
  "kernelspec": {
   "display_name": "SageMath 9.2",
   "language": "sage",
   "name": "sagemath"
  },
  "language_info": {
   "codemirror_mode": {
    "name": "ipython",
    "version": 3
   },
   "file_extension": ".py",
   "mimetype": "text/x-python",
   "name": "python",
   "nbconvert_exporter": "python",
   "pygments_lexer": "ipython3",
   "version": "3.9.1rc1"
  }
 },
 "nbformat": 4,
 "nbformat_minor": 4
}
